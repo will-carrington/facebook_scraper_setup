{
  "nbformat": 4,
  "nbformat_minor": 0,
  "metadata": {
    "colab": {
      "name": "facebookCookieLegs.ipynb",
      "provenance": []
    },
    "kernelspec": {
      "name": "python3",
      "display_name": "Python 3"
    },
    "language_info": {
      "name": "python"
    }
  },
  "cells": [
    {
      "cell_type": "code",
      "source": [
        "cookies = {'li_sugr':'cfc80d3c-c7ed-4343-9f35-668ef98aaa46',\n",
        "'lang':'v=2&lang=en-us',\n",
        "'bcookie':'v=2&b975a7dd-de12-409c-8c1f-d98a16188d1a',\n",
        "'lang':'v=2&lang=en-us',\n",
        "'bscookie':'v=1&2022082314015401bfc4c3-2b0a-4499-8f26-a4b18c473773AQHSvya4bZKVcSt1ksvy6nYPppXB113j',\n",
        "'JSESSIONID':'ajax:2513176378079689584',\n",
        "'g_state':'{\"i_l\":0}',\n",
        "'JSESSIONID':'ajax:5759668338988416696',\n",
        "'AMCVS_14215E3D5995C57C0A495C55%40AdobeOrg':'1',\n",
        "'aam_uuid':'64930633856208904390928281265176296849',\n",
        "'fid':'AQERDPHPrDGP-gAAAYLLE3Bfx6jopTR54nHgeDW_jS3Q9CQUNICf7ntVVfRmVGnlQSQpeHZzAhT7Nw',\n",
        "'fcookie':'AQFwCvVPKSiG6wAAAYLLE4SNCJiucNxhKVS2gAcyhpLz9IM9-oNieId_Z7bZfHRk59eAFJsi7yEFYIcGxI8YKLENNxhDKMR5IQt1Iz004e9L0J7GVNUjcveRRQ0tRvi0mS1qYxGKw-6rm5sOsM8bhG77rbbxVugHCkTFq0HA_3Y6JVWJnJPJJyxqBdKtD_qmvNQNnC8FeghU9RQ5dIK0-Ugepqvxjhc-zTZ-0BqefvvlDDQDJbZrcsfOkzp0SpLwFGIZaWTPsJj0Mqz1KZOuHS9EqM1FaDoBuEToWRKo2+v0cG9YydrOBQUbweUjJb8hyrqfGX51Obs5pCI9xWFkHA==',\n",
        "'_gcl_au':'1.1.409479845.1661264217',\n",
        "'li_at':'AQEDATD4sygCTCkJAAABgssT33cAAAGC7yBjd00AOg6U8TzzK4wKRY1ONs-r7q66qGa-RBKpPoBFHbTCYomtRn6NsaLaOht7Qfimh4D_EW5EXfI6UNaRUUb2fLEjzS5XAL64wHIIA0EKRDptNbJ6X1ro',\n",
        "'liap':'TRUE',\n",
        "'timezone':'America/New_York',\n",
        "'li_theme':'light',\n",
        "'li_theme_set':'app',\n",
        "'AnalyticsSyncHistory':'AQJy67GvdnvVbgAAAYLLE-VKrqG3fbdEzkNNbswcNmH3x9noatW9BJxiIoV8DU9BesgtAs0XhNZylt4FDsVQyQ',\n",
        "'_guid':'176c1899-5671-497c-9028-bed9a5f7a03e',\n",
        "'lms_ads':'AQHkhHlDp4pzngAAAYLLE-WpiD-aCQ-Wst6Lv2WVYM-2jFvPrUdsV8KqsrM5SZfzsaNn_BzxpK7F4RmoyRQsikGAPYC4GLzT',\n",
        "'lms_analytics':'AQHkhHlDp4pzngAAAYLLE-WpiD-aCQ-Wst6Lv2WVYM-2jFvPrUdsV8KqsrM5SZfzsaNn_BzxpK7F4RmoyRQsikGAPYC4GLzT',\n",
        "'JSESSIONID':'ajax:8726047165709933526',\n",
        "'JSESSIONID':'ajax:0358864779123245005',\n",
        "'AMCV_14215E3D5995C57C0A495C55%40AdobeOrg':'-637568504%7CMCIDTS%7C19228%7CMCMID%7C65450865228212921720877856512285429338%7CMCAAMLH-1661957216%7C7%7CMCAAMB-1661957216%7C6G1ynYcLPuiQxYZrsz_pkqfLG9yMXBpb2zX5dvJdYQJzPXImdj0y%7CMCOPTOUT-1661359616s%7CNONE%7CvVersion%7C5.1.1%7CMCCIDH%7C564185841',\n",
        "'JSESSIONID':'ajax:0631989544755558957',\n",
        "'JSESSIONID':'ajax:8905700650821610056',\n",
        "'JSESSIONID':'ajax:8770767505471613011',\n",
        "'JSESSIONID':'ajax:0169058678081671622',\n",
        "'JSESSIONID':'ajax:3725388959336601485',\n",
        "'UserMatchHistory':'AQJHVTpg7ZRzqAAAAYLRNBLVC6BZaF6WXj7fZ_9e9jnJ95fqfEaSt2bvovA-Q8HIoRnSdpo50qSseLLV4_Bas76Cs95FbSJXC2FeMvH5onzdoBvt-k3oJ1Z5_WQkK9T27zGjLEKPOvLSWgTutoA2jPSAeB-sKXyoqW_IlZpVrfed7OBLy9eKdzI2pxxPZ8ftSYpNImIMqznRwFhq5ozlGCXC9nMsyOEFOdtHu1ONQGuupjsRjA0Lg3AaIeepPW06sRB6b_gm1qObAaDafady-D1Pqr9G0pdgafZtuUg',\n",
        "'lidc':'b=TB60:s=T:r=T:a=T:p=T:g=3183:u=284:x=1:i=1661367227:t=1661440772:v=2:sig=AQFPEJ1Xz6tnWp4eXggIH4768zDPLYp3'}"
      ],
      "metadata": {
        "id": "SbTQJ-vRRSc0"
      },
      "execution_count": 1,
      "outputs": []
    },
    {
      "cell_type": "code",
      "source": [
        "import pandas as pd \n",
        "import numpy as np \n",
        "import requests \n",
        "import time \n",
        "import bs4\n",
        "from bs4 import BeautifulSoup\n",
        "import random\n",
        "import re\n",
        "import sys\n",
        "from pprint import pprint"
      ],
      "metadata": {
        "id": "nP9QQdiTsSzg"
      },
      "execution_count": 2,
      "outputs": []
    },
    {
      "cell_type": "code",
      "source": [
        "ffcookies = {'dpr':'2',\n",
        "'datr':'NiEFYxkUOUts9ggSHTeCkBSH',\n",
        "'sb':'m38GY4RCeFAihOy0U-1NXYYA',\n",
        "'c_user':'100004391175497',\n",
        "'xs':'214%3AlsoO4nslMG5LiQ%3A2%3A1661370395%3A-1%3A2642',\n",
        "'presence':'C%7B%22t3%22%3A%5B%5D%2C%22utc3%22%3A1661370754494%2C%22v%22%3A1%7D',\n",
        "'fr':'0MMjkPqDSp7gNYFe1.AWWMWLq-tcKVB__xIZ8EOgy3KEk.BjBNrL.t7.AAA.0.0.BjBoUF.AWX2_QemRFQ',\n",
        "'m_pixel_ratio':'2',\n",
        "'wd':'823x1154'}"
      ],
      "metadata": {
        "id": "aJfpte4Ae283"
      },
      "execution_count": 8,
      "outputs": []
    },
    {
      "cell_type": "code",
      "source": [
        "pip install mechanize"
      ],
      "metadata": {
        "colab": {
          "base_uri": "https://localhost:8080/"
        },
        "id": "uVh4PAcndiZB",
        "outputId": "a3bf2449-d55e-47ec-ccaf-ed387806d346"
      },
      "execution_count": 7,
      "outputs": [
        {
          "output_type": "stream",
          "name": "stdout",
          "text": [
            "Looking in indexes: https://pypi.org/simple, https://us-python.pkg.dev/colab-wheels/public/simple/\n",
            "Requirement already satisfied: mechanize in /usr/local/lib/python3.7/dist-packages (0.4.8)\n",
            "Requirement already satisfied: html5lib>=0.999999999 in /usr/local/lib/python3.7/dist-packages (from mechanize) (1.0.1)\n",
            "Requirement already satisfied: webencodings in /usr/local/lib/python3.7/dist-packages (from html5lib>=0.999999999->mechanize) (0.5.1)\n",
            "Requirement already satisfied: six>=1.9 in /usr/local/lib/python3.7/dist-packages (from html5lib>=0.999999999->mechanize) (1.15.0)\n"
          ]
        }
      ]
    },
    {
      "cell_type": "code",
      "source": [
        "import mechanize\n",
        "browser = mechanize.Browser()\n",
        "browser.set_handle_robots(False)\n",
        "cookies = mechanize.CookieJar()\n",
        "browser.set_cookiejar(cookies)\n",
        "browser.addheaders = [('User-agent', 'Mozilla/5.0 (X11; U; Linux i686; en-US) AppleWebKit/534.7 (KHTML, like Gecko) Chrome/7.0.517.41 Safari/534.7')]\n",
        "browser.set_handle_refresh(False)\n",
        "\n",
        "url = 'http://www.facebook.com/login.php'\n",
        "browser.open(url)\n",
        "browser.select_form(nr = 0)       #This is login-password form -> nr = number = 0\n",
        "browser.form['email'] = ''\n",
        "browser.form['pass'] = ''\n",
        "response = browser.submit()"
      ],
      "metadata": {
        "id": "ZPx-MxXGbYR8"
      },
      "execution_count": 9,
      "outputs": []
    },
    {
      "cell_type": "code",
      "source": [
        "urln = 'https://m.facebook.com/ufi/reaction/profile/browser/?ft_ent_identifier=5076161002492222&av=100004391175497&ext=1661654646&hash=AeSu95_oMoy2FsnZV00'\n",
        "html = requests.get(urln, data = response, cookies = ffcookies).text\n",
        "soupcn = bs4.BeautifulSoup(html, \"html.parser\")\n",
        "soupcn"
      ],
      "metadata": {
        "colab": {
          "base_uri": "https://localhost:8080/"
        },
        "id": "v7ZiIr3YZDtx",
        "outputId": "04edbd87-63d2-4e06-ba1d-dbdbe0c4d233"
      },
      "execution_count": 10,
      "outputs": [
        {
          "output_type": "execute_result",
          "data": {
            "text/plain": [
              "<?xml version=\"1.0\" encoding=\"utf-8\"?>\n",
              "<!DOCTYPE html PUBLIC \"-//WAPFORUM//DTD XHTML Mobile 1.0//EN\" \"http://www.wapforum.org/DTD/xhtml-mobile10.dtd\">\n",
              "<html lang=\"en\" xmlns=\"http://www.w3.org/1999/xhtml\"><head><title>People who reacted</title><meta content=\"default\" id=\"meta_referrer\" name=\"referrer\"/><style nonce=\"foYtU56K\" type=\"text/css\">/*<![CDATA[*/.b .i{border:0;border-collapse:collapse;margin:0;padding:0;width:100%;}.b .i tbody{vertical-align:top;}.b .j>tr>td,.b .j>tbody>tr>td,.b .i td.j{vertical-align:middle;}.b .i td{padding:0;}.b .i td.bd{padding:4px;}.b .q{width:100%;}.x{border-bottom:1px solid #e5e5e5;padding:4px;}.x{font-size:small;}.y{display:inline-block;vertical-align:top;white-space:nowrap;}.z{border-bottom:solid 2px #3b5998;font-weight:bold;}.bb{margin-bottom:1px;margin-right:2px;}.ba{margin:0 1px;}.b a,.b a:visited{color:#3b5998;text-decoration:none;}.b .s,.b .s:visited{color:#fff;}.b a:focus,.b a:hover{background-color:#3b5998;color:#fff;}.b .s:focus,.b .s:hover{background-color:#fff;color:#3b5998;}.bc>*,.bc.bc>*{border-bottom:1px solid #e5e5e5;}.bc>:last-child{border-bottom:none;}.bc+.bc{border-top:1px solid #e5e5e5;}.b .bd{padding:4px;}.bg{margin-left:4px;}.e{background-color:#fff;}.bm{padding:4px 3px;}.p{border:0;display:inline-block;vertical-align:top;}i.p u{position:absolute;width:0;height:0;overflow:hidden;}.b .be td.bh{padding:0 4px;}.b .be td.bl{white-space:nowrap;}.bf{background:#eceff5;}.bj{color:#90949c;}.w{font-size:12px;line-height:16px;}.bi{font-size:14px;line-height:20px;}.bk{font-weight:normal;}body{text-align:left;direction:ltr;}body,tr,input,textarea,button{font-family:sans-serif;}body,p,figure,h1,h2,h3,h4,h5,h6,ul,ol,li,dl,dd,dt{margin:0;padding:0;}h1,h2,h3,h4,h5,h6{font-size:1em;font-weight:bold;}ul,ol{list-style:none;}article,aside,figcaption,figure,footer,header,nav,section{display:block;}#page{position:relative;}.g{background-color:#3b5998;color:#fff;}.g .n{padding:6px;}.g ._4-i4._4-i4{font-size:small;font-weight:normal;margin:2px 0;padding:5px 0;}.r{background-position:center center;background-repeat:no-repeat;display:block;font-size:small;height:12px;margin:2px;padding:5px;white-space:nowrap;width:12px;}.r:hover{background-image:url(https://static.xx.fbcdn.net/rsrc.php/v3/yl/r/DnQcL0yVZTv.png);}.r{background-image:url(https://static.xx.fbcdn.net/rsrc.php/v3/yN/r/dQpT-esi6Fj.png);}.h .r,.h .r:hover{background-image:none;height:auto;width:auto;}.n{display:block;padding:5px;}.o,.o.p{display:block;}.l{display:block;}.m{height:14px;width:14px;}.t{background:#3578e5;}.v{color:#fff;}.b .v a,.b .v a:visited{color:#fff;font-weight:bold;}.b .v a:focus,.b .v a:hover{background:#1d2129;}.u{padding:8px;}body,tr,input,textarea,.f{font-size:medium;}/*]]>*/</style><link crossorigin=\"use-credentials\" href=\"/data/manifest/\" id=\"MANIFEST_LINK\" rel=\"manifest\"/></head><body class=\"b c d e\" tabindex=\"0\"><div class=\"f\"><div id=\"viewport\"><div class=\"g h\" id=\"header\"><table align=\"center\" class=\"i j\"><tbody><tr><td class=\"k\"><a class=\"l m n\" href=\"/home.php?ref_component=mbasic_home_logo&amp;ref_page=XUFIReactionProfileBrowserController&amp;paipv=0&amp;eav=AfbddK-S4kHnJNRDeKVZp_zM5WYxhDhKTxKArBcdzt1nmjSi5hTcp_KpRLjVTgafTbo&amp;tbua=1\"><img alt=\"Facebook logo\" class=\"o p\" height=\"14\" src=\"https://static.xx.fbcdn.net/rsrc.php/v3/yI/r/MCUucy1kwqD.png\" width=\"14\"/></a></td><td class=\"q\"><span>...<h1 class=\"_4-i4\">People who reacted</h1></span></td><td class=\"k\"><a class=\"r s\" href=\"https://m.facebook.com/groups/OSAsupport/permalink/5076161002492222/?paipv=0&amp;eav=AfZMCPh38kBhutjzEuGkHW9n4qFaCdVCsGPlxbwA1EOIH90H3VSZCoLISHJJdaTDvWs\">Back to post</a></td></tr></tbody></table></div><div id=\"objects_container\"><div class=\"e\" id=\"root\"><div class=\"t u v\"><div class=\"w\">You're now interacting as Will Carrington</div></div><table class=\"i\"><tbody><tr><td class=\"q\"><div><div class=\"x\"><a class=\"y z\" href=\"/ufi/reaction/profile/browser/fetch/?ft_ent_identifier=5076161002492222&amp;limit=10&amp;total_count=100&amp;paipv=0&amp;eav=AfavZCL305H72XsID0ZevGMy_CH1pzLjJFoCH53UNnW6hFAgMf7Yu4b32-9WvUGJXyE\">All 100</a><span class=\"ba\"> · </span><a class=\"y\" href=\"/ufi/reaction/profile/browser/fetch/?ft_ent_identifier=5076161002492222&amp;limit=10&amp;reaction_type=4&amp;reaction_id=115940658764963&amp;total_count=76&amp;paipv=0&amp;eav=AfbOG39ZxJGy-zikWohSB0QpGxdXVRAMbWiz2klgIIrQ907pQ7TWCsEMqhUD_EYFBB4\"><img alt=\"Haha\" class=\"bb p\" height=\"16\" src=\"https://scontent.fblr15-1.fna.fbcdn.net/m1/v/t6/An_F9bJG7govfshSMBkvcRLcxT0jmiXVYKtr7lgH5AHgUrjjpZ1OD0xyxXYgf7arc0lWgCdrR_KN4Mg7RSN3Gm3W6Gg03N1tQ-ZXzVvFJ_KvvB4.png?ccb=10-5&amp;oh=00_AT9Q2vRtlIlYwDNB8JBupJIOw1209HH39-kTQwR4oczWTQ&amp;oe=630F9327&amp;_nc_sid=55e238\" width=\"16\"/><span>76</span></a><span class=\"ba\"> · </span><a class=\"y\" href=\"/ufi/reaction/profile/browser/fetch/?ft_ent_identifier=5076161002492222&amp;limit=10&amp;reaction_type=3&amp;reaction_id=478547315650144&amp;total_count=14&amp;paipv=0&amp;eav=AfYZ9JR4MN2OGxp1Xg8duLn8fDRvzR_-FN2J83cb2AkFW6uZXNrBSG5AWxfMp6ekm60\"><img alt=\"Wow\" class=\"bb p\" height=\"16\" src=\"https://scontent.fblr15-1.fna.fbcdn.net/m1/v/t6/An_0KlxkBZwTJgSV9p2pDQkaZcuO9nFP4R72nyZmCnWKIxG_MSUbtZ_uBFHkKhQVvjgeou7ijfWCAKaRfSRFqQS9RcziMUL4BTtfpxJ2KfylUgpq.png?ccb=10-5&amp;oh=00_AT8Y2EpAic79SA02tRzFcra3e0r-JD5YxSk1k7XA-16jig&amp;oe=630F2D53&amp;_nc_sid=55e238\" width=\"16\"/><span>14</span></a><span class=\"ba\"> · </span><a class=\"y\" href=\"/ufi/reaction/profile/browser/fetch/?ft_ent_identifier=5076161002492222&amp;limit=10&amp;reaction_type=1&amp;reaction_id=1635855486666999&amp;total_count=6&amp;paipv=0&amp;eav=AfY3Y-NtEDgqO0d4N-luW4FnHB1K_LDW7vcc3ZFBqHuBBWuJteol6xDFJarJbDP-wGc\"><img alt=\"Like\" class=\"bb p\" height=\"16\" src=\"https://scontent.fblr15-1.fna.fbcdn.net/m1/v/t6/An_UvxJXg9tdnLU3Y5qjPi0200MLilhzPXUgxzGjQzUMaNcmjdZA6anyrngvkdub33NZzZhd51fpCAEzNHFhko5aKRFP5fS1w_lKwYrzcNLupv27.png?ccb=10-5&amp;oh=00_AT8o8PFgX8dhFeKOBMJcIFQtmMhL0FImGZ8C7jpxjecCbw&amp;oe=630FC0B9&amp;_nc_sid=55e238\" width=\"16\"/><span>6</span></a><span class=\"ba\"> · </span><a class=\"y\" href=\"/ufi/reaction/profile/browser/fetch/?ft_ent_identifier=5076161002492222&amp;limit=10&amp;reaction_type=8&amp;reaction_id=444813342392137&amp;total_count=2&amp;paipv=0&amp;eav=AfZ-Ll2VFZnln7cZa5tXqgWxJSpXDBYUqts1GtABMvE1fH__F1lEFnKrraZAbSJF-PU\"><img alt=\"Angry\" class=\"bb p\" height=\"16\" src=\"https://scontent.fblr15-1.fna.fbcdn.net/m1/v/t6/An-OzaYGRs8HJMUUdL-Q9pzzUe-6dYQYH0YuulfJGzClIwZB6ubbGwhtChGS8FxnChgEmifrcrhalKyw7ubZeQmjvur00_4Bm3UKlJBnXJyqwKsR.png?ccb=10-5&amp;oh=00_AT9aEBhE9iNKes0jUfsWLu9sG9crltW8ZSL5eVMikTsK5Q&amp;oe=630F672B&amp;_nc_sid=55e238\" width=\"16\"/><span>2</span></a><span class=\"ba\"> · </span><a class=\"y\" href=\"/ufi/reaction/profile/browser/fetch/?ft_ent_identifier=5076161002492222&amp;limit=10&amp;reaction_type=7&amp;reaction_id=908563459236466&amp;total_count=1&amp;paipv=0&amp;eav=AfZA-scNie7idst8oRJWf7Lxm3xEGFbhckMObRTml5qQSNCDxvYeqZ5-FMuVUAmdJ_Y\"><img alt=\"Sad\" class=\"bb p\" height=\"16\" src=\"https://scontent.fblr15-1.fna.fbcdn.net/m1/v/t6/An-0mG6nK_Uk-eBw_Z5hXaQPl2Il-GAtgNisMF_CPi6qvu85Lx2-5PalMJvS7fIbuodHct0V3tJrvSxzau9mOcNxqVhoiy8lxxQ9edz-6r6_o9YroQ.png?ccb=10-5&amp;oh=00_AT8JDfbqkxAnJZJc4RXOIEF9XGtfmaVe_uNMsfOmmsvuOQ&amp;oe=630E79C4&amp;_nc_sid=55e238\" width=\"16\"/><span>1</span></a><span class=\"ba\"> · </span><a class=\"y\" href=\"/ufi/reaction/profile/browser/fetch/?ft_ent_identifier=5076161002492222&amp;limit=10&amp;reaction_type=16&amp;reaction_id=613557422527858&amp;total_count=1&amp;paipv=0&amp;eav=AfYJKrBZo9oJbg1BdIuWILn859mtWczXOFTm1v1qOO3hSLRUcuN-E2NTuwuKvJ4Sbqg\"><img alt=\"Care\" class=\"bb p\" height=\"16\" src=\"https://scontent.fblr15-1.fna.fbcdn.net/m1/v/t6/An-9fyYLftTy_Mg2cJpugh-vEVNfbtI-fVn4FNS7K-sgIMu9pT62Tb1u9Dfm-xYLtjbLQk-yVHp_IlY_4iMVYp0xLpO7sJvbxbC2OIiRxzS02cOuKEoo.png?ccb=10-5&amp;oh=00_AT--OUM9XDCv-q94s2qYNorlQjTjuZZDGwTsFxFVXAfXqA&amp;oe=630E7798&amp;_nc_sid=55e238\" width=\"16\"/><span>1</span></a></div><ul class=\"bc\"><li class=\"bd\"><table align=\"center\" class=\"i j\"><tbody><tr><td class=\"q\"><table align=\"center\" class=\"i j be\"><tbody><tr><td class=\"k\"><img alt=\"Will Carrington, profile picture\" class=\"bf p\" src=\"https://scontent.fblr15-1.fna.fbcdn.net/v/t1.18169-1/12295261_553851881437846_6213697620088817451_n.jpg?stp=cp0_dst-jpg_e15_p112x112_q65&amp;_nc_cat=108&amp;ccb=1-7&amp;_nc_sid=dbb9e7&amp;efg=eyJpIjoiYiJ9&amp;_nc_ohc=ouy_tfYzwOEAX8YWApy&amp;_nc_ht=scontent.fblr15-1.fna&amp;oh=00_AT-rldjesceBtCx5l-RqrWQu1Ws0QzfrMl0Dx5bViBgzkQ&amp;oe=632E5C70\"/></td><td class=\"k\"><img alt=\"Like\" class=\"bg p\" height=\"16\" src=\"https://scontent.fblr15-1.fna.fbcdn.net/m1/v/t6/An_UvxJXg9tdnLU3Y5qjPi0200MLilhzPXUgxzGjQzUMaNcmjdZA6anyrngvkdub33NZzZhd51fpCAEzNHFhko5aKRFP5fS1w_lKwYrzcNLupv27.png?ccb=10-5&amp;oh=00_AT8o8PFgX8dhFeKOBMJcIFQtmMhL0FImGZ8C7jpxjecCbw&amp;oe=630FC0B9&amp;_nc_sid=55e238\" width=\"16\"/></td><td class=\"q bh\"><div><h3 class=\"bi\"><a href=\"/will.carrington.52?eav=Afb8Tqctg7kZCl_EayffN_52i_qLNHyuLMJnKGAop_YR48tu8NsYIUH2Q8eyQneYoSY&amp;paipv=0\">Will Carrington</a></h3><h3 class=\"w bj bk\"></h3></div></td><td class=\"k bl\"></td></tr></tbody></table></td></tr></tbody></table></li><li class=\"bd\"><table align=\"center\" class=\"i j\"><tbody><tr><td class=\"q\"><table align=\"center\" class=\"i j be\"><tbody><tr><td class=\"k\"><img alt=\"Courtney Harper, profile picture\" class=\"bf p\" src=\"https://scontent.fblr15-1.fna.fbcdn.net/v/t39.30808-1/292346295_139973132030496_2851084504636819057_n.jpg?stp=cp0_dst-jpg_e15_p112x112_q65&amp;_nc_cat=107&amp;ccb=1-7&amp;_nc_sid=dbb9e7&amp;efg=eyJpIjoiYiJ9&amp;_nc_ohc=O9n9rGr2PvMAX8R7urG&amp;_nc_ht=scontent.fblr15-1.fna&amp;oh=00_AT8zjP8fq7bdqJjSazMSfN4NxCbyB9FmMYwErkXhaD6-eA&amp;oe=631016D4\"/></td><td class=\"k\"><img alt=\"Haha\" class=\"bg p\" height=\"16\" src=\"https://scontent.fblr15-1.fna.fbcdn.net/m1/v/t6/An_F9bJG7govfshSMBkvcRLcxT0jmiXVYKtr7lgH5AHgUrjjpZ1OD0xyxXYgf7arc0lWgCdrR_KN4Mg7RSN3Gm3W6Gg03N1tQ-ZXzVvFJ_KvvB4.png?ccb=10-5&amp;oh=00_AT9Q2vRtlIlYwDNB8JBupJIOw1209HH39-kTQwR4oczWTQ&amp;oe=630F9327&amp;_nc_sid=55e238\" width=\"16\"/></td><td class=\"q bh\"><div><h3 class=\"bi\"><a href=\"/profile.php?id=100080534286018&amp;eav=AfbaH2fONBTUvuyc4NroJdq0Tq69zn40j5admWlFQRNkfmkwSQkFKaqboTFsSQgocuU&amp;paipv=0\">Courtney Harper</a></h3><h3 class=\"w bj bk\"></h3></div></td><td class=\"k bl\"></td></tr></tbody></table></td></tr></tbody></table></li><li class=\"bd\"><table align=\"center\" class=\"i j\"><tbody><tr><td class=\"q\"><table align=\"center\" class=\"i j be\"><tbody><tr><td class=\"k\"><img alt=\"Sue Wyatt, profile picture\" class=\"bf p\" src=\"https://scontent.fblr15-1.fna.fbcdn.net/v/t1.6435-1/143870587_104958664953264_8216138841103813153_n.jpg?stp=cp0_dst-jpg_e15_p111x111_q65&amp;_nc_cat=109&amp;ccb=1-7&amp;_nc_sid=dbb9e7&amp;efg=eyJpIjoiYiJ9&amp;_nc_ohc=0PqVk0SYMaAAX9G0eMo&amp;_nc_oc=AQln4y0dSvu8bsx_CdBJ1muWTGKusW8gVPQDBsDn61HLsYwonzqTQfI5BTPE0i5VozQ&amp;_nc_ht=scontent.fblr15-1.fna&amp;oh=00_AT-f8aON6XmbeBMtP7q-iTLg9Z2IOgqILWcQX78lmeeDHw&amp;oe=6331E270\"/></td><td class=\"k\"><img alt=\"Haha\" class=\"bg p\" height=\"16\" src=\"https://scontent.fblr15-1.fna.fbcdn.net/m1/v/t6/An_F9bJG7govfshSMBkvcRLcxT0jmiXVYKtr7lgH5AHgUrjjpZ1OD0xyxXYgf7arc0lWgCdrR_KN4Mg7RSN3Gm3W6Gg03N1tQ-ZXzVvFJ_KvvB4.png?ccb=10-5&amp;oh=00_AT9Q2vRtlIlYwDNB8JBupJIOw1209HH39-kTQwR4oczWTQ&amp;oe=630F9327&amp;_nc_sid=55e238\" width=\"16\"/></td><td class=\"q bh\"><div><h3 class=\"bi\"><a href=\"/sue.wyatt.92351?eav=AfbkX_ipV_46d6UPwj_IGSXHA9gqyicDVk5Qygu2RtaofVdl61sLXpIeZUPlbk1fC1I&amp;paipv=0\">Sue Wyatt</a></h3><h3 class=\"w bj bk\"></h3></div></td><td class=\"k bl\"></td></tr></tbody></table></td></tr></tbody></table></li><li class=\"bd\"><table align=\"center\" class=\"i j\"><tbody><tr><td class=\"q\"><table align=\"center\" class=\"i j be\"><tbody><tr><td class=\"k\"><img alt=\"Courtney Benning, profile picture\" class=\"bf p\" src=\"https://scontent.fblr15-1.fna.fbcdn.net/v/t39.30808-1/288123129_546846177114270_6370670555298520037_n.jpg?stp=cp0_dst-jpg_e15_p111x111_q65&amp;_nc_cat=105&amp;ccb=1-7&amp;_nc_sid=dbb9e7&amp;efg=eyJpIjoiYiJ9&amp;_nc_ohc=wPJOVUjuwlQAX__GL2r&amp;tn=mCsOuNrk_19M542n&amp;_nc_ht=scontent.fblr15-1.fna&amp;oh=00_AT-dd854aksVKp6fshQH3DJNo6Qzx5upGq9szlLMJG2aTw&amp;oe=630FE0F4\"/></td><td class=\"k\"><img alt=\"Haha\" class=\"bg p\" height=\"16\" src=\"https://scontent.fblr15-1.fna.fbcdn.net/m1/v/t6/An_F9bJG7govfshSMBkvcRLcxT0jmiXVYKtr7lgH5AHgUrjjpZ1OD0xyxXYgf7arc0lWgCdrR_KN4Mg7RSN3Gm3W6Gg03N1tQ-ZXzVvFJ_KvvB4.png?ccb=10-5&amp;oh=00_AT9Q2vRtlIlYwDNB8JBupJIOw1209HH39-kTQwR4oczWTQ&amp;oe=630F9327&amp;_nc_sid=55e238\" width=\"16\"/></td><td class=\"q bh\"><div><h3 class=\"bi\"><a href=\"/courtney.fell.10?eav=AfY2dKznMyaCJmEc3WQNmnE9uAfRHpyRoQ4Xr73mdvGwLgQPtSlmQ4JZ2gsPh4JcltI&amp;paipv=0\">Courtney Benning</a></h3><h3 class=\"w bj bk\"></h3></div></td><td class=\"k bl\"></td></tr></tbody></table></td></tr></tbody></table></li><li class=\"bd\"><table align=\"center\" class=\"i j\"><tbody><tr><td class=\"q\"><table align=\"center\" class=\"i j be\"><tbody><tr><td class=\"k\"><img alt=\"Alex Siltala, profile picture\" class=\"bf p\" src=\"https://scontent.fblr15-1.fna.fbcdn.net/v/t1.6435-1/117666999_170694907838482_8966164045706549282_n.jpg?stp=cp0_dst-jpg_e15_p112x112_q65&amp;_nc_cat=111&amp;ccb=1-7&amp;_nc_sid=dbb9e7&amp;efg=eyJpIjoiYiJ9&amp;_nc_ohc=2e9wYH-BvcQAX9RzgSB&amp;_nc_ht=scontent.fblr15-1.fna&amp;oh=00_AT_ZFCgqOLGBl0TO0u2aoCct0h-u8R8vnzqffBuWRuYyrA&amp;oe=6330046B\"/></td><td class=\"k\"><img alt=\"Haha\" class=\"bg p\" height=\"16\" src=\"https://scontent.fblr15-1.fna.fbcdn.net/m1/v/t6/An_F9bJG7govfshSMBkvcRLcxT0jmiXVYKtr7lgH5AHgUrjjpZ1OD0xyxXYgf7arc0lWgCdrR_KN4Mg7RSN3Gm3W6Gg03N1tQ-ZXzVvFJ_KvvB4.png?ccb=10-5&amp;oh=00_AT9Q2vRtlIlYwDNB8JBupJIOw1209HH39-kTQwR4oczWTQ&amp;oe=630F9327&amp;_nc_sid=55e238\" width=\"16\"/></td><td class=\"q bh\"><div><h3 class=\"bi\"><a href=\"/alex.siltala.1?eav=AfY0DjX1Bvyk-t7RiQ18woERM2zhLyFszM76LsWcaVP9YDzS6Zbr-gE65lGhj7lDnG8&amp;paipv=0\">Alex Siltala</a></h3><h3 class=\"w bj bk\"></h3></div></td><td class=\"k bl\"></td></tr></tbody></table></td></tr></tbody></table></li><li class=\"bd\"><table align=\"center\" class=\"i j\"><tbody><tr><td class=\"q\"><table align=\"center\" class=\"i j be\"><tbody><tr><td class=\"k\"><img alt=\"Alex Lathrop, profile picture\" class=\"bf p\" src=\"https://scontent.fblr15-1.fna.fbcdn.net/v/t39.30808-1/300149330_799181587781558_7849960749501123021_n.jpg?stp=cp0_dst-jpg_e15_p112x112_q65&amp;_nc_cat=101&amp;ccb=1-7&amp;_nc_sid=dbb9e7&amp;efg=eyJpIjoiYiJ9&amp;_nc_ohc=5Uz5pRvD0QwAX8aBnZ4&amp;_nc_ht=scontent.fblr15-1.fna&amp;oh=00_AT-R3zyHfBiJKl1HqpZQwMEC5V6u-8vXMCNOwS_ijxrAXw&amp;oe=630F9719\"/></td><td class=\"k\"><img alt=\"Haha\" class=\"bg p\" height=\"16\" src=\"https://scontent.fblr15-1.fna.fbcdn.net/m1/v/t6/An_F9bJG7govfshSMBkvcRLcxT0jmiXVYKtr7lgH5AHgUrjjpZ1OD0xyxXYgf7arc0lWgCdrR_KN4Mg7RSN3Gm3W6Gg03N1tQ-ZXzVvFJ_KvvB4.png?ccb=10-5&amp;oh=00_AT9Q2vRtlIlYwDNB8JBupJIOw1209HH39-kTQwR4oczWTQ&amp;oe=630F9327&amp;_nc_sid=55e238\" width=\"16\"/></td><td class=\"q bh\"><div><h3 class=\"bi\"><a href=\"/alex.lathrop.509?eav=AfbrSwa4lCJbqmC15hlTbchrBpsdT-0DvJgPljswgLUhidunLOJ1oj_wXwV8kyKLOM8&amp;paipv=0\">Alex Lathrop</a></h3><h3 class=\"w bj bk\"></h3></div></td><td class=\"k bl\"></td></tr></tbody></table></td></tr></tbody></table></li><li class=\"bd\"><table align=\"center\" class=\"i j\"><tbody><tr><td class=\"q\"><table align=\"center\" class=\"i j be\"><tbody><tr><td class=\"k\"><img alt=\"Imlexi Mills, profile picture\" class=\"bf p\" src=\"https://scontent.fblr15-1.fna.fbcdn.net/v/t1.6435-1/48396512_229641504646640_2618059420503900160_n.jpg?stp=cp0_dst-jpg_e15_p112x112_q65&amp;_nc_cat=111&amp;ccb=1-7&amp;_nc_sid=dbb9e7&amp;efg=eyJpIjoiYiJ9&amp;_nc_ohc=ZlOtrrqz9lIAX_P-M6c&amp;_nc_ht=scontent.fblr15-1.fna&amp;oh=00_AT_1v8W-xWJArhq3WRh3AtL1x_un6rlyRJ901O1WLa-nrg&amp;oe=632F9B92\"/></td><td class=\"k\"><img alt=\"Angry\" class=\"bg p\" height=\"16\" src=\"https://scontent.fblr15-1.fna.fbcdn.net/m1/v/t6/An-OzaYGRs8HJMUUdL-Q9pzzUe-6dYQYH0YuulfJGzClIwZB6ubbGwhtChGS8FxnChgEmifrcrhalKyw7ubZeQmjvur00_4Bm3UKlJBnXJyqwKsR.png?ccb=10-5&amp;oh=00_AT9aEBhE9iNKes0jUfsWLu9sG9crltW8ZSL5eVMikTsK5Q&amp;oe=630F672B&amp;_nc_sid=55e238\" width=\"16\"/></td><td class=\"q bh\"><div><h3 class=\"bi\"><a href=\"/imlexi.mills.7?eav=AfZv9Tiyx5UFIBSnimD0DUGtaVrgs6sWCdvsh-wSSIgAuT-A2SpTzhx_lZ2VByICK3w&amp;paipv=0\">Imlexi Mills</a></h3><h3 class=\"w bj bk\"></h3></div></td><td class=\"k bl\"></td></tr></tbody></table></td></tr></tbody></table></li><li class=\"bd\"><table align=\"center\" class=\"i j\"><tbody><tr><td class=\"q\"><table align=\"center\" class=\"i j be\"><tbody><tr><td class=\"k\"><img alt=\"TJ Wags, profile picture\" class=\"bf p\" src=\"https://scontent.fblr15-1.fna.fbcdn.net/v/t1.6435-1/174348950_780931672538555_7935468119828523282_n.jpg?stp=cp0_dst-jpg_e15_p111x111_q65&amp;_nc_cat=102&amp;ccb=1-7&amp;_nc_sid=dbb9e7&amp;efg=eyJpIjoiYiJ9&amp;_nc_ohc=HelEQ1gGh5MAX9G34kk&amp;_nc_ht=scontent.fblr15-1.fna&amp;oh=00_AT_t2ZLk_H9apg0uYsGA5zOSOidk9xZacJLyl6l0qP2mPA&amp;oe=63320042\"/></td><td class=\"k\"><img alt=\"Haha\" class=\"bg p\" height=\"16\" src=\"https://scontent.fblr15-1.fna.fbcdn.net/m1/v/t6/An_F9bJG7govfshSMBkvcRLcxT0jmiXVYKtr7lgH5AHgUrjjpZ1OD0xyxXYgf7arc0lWgCdrR_KN4Mg7RSN3Gm3W6Gg03N1tQ-ZXzVvFJ_KvvB4.png?ccb=10-5&amp;oh=00_AT9Q2vRtlIlYwDNB8JBupJIOw1209HH39-kTQwR4oczWTQ&amp;oe=630F9327&amp;_nc_sid=55e238\" width=\"16\"/></td><td class=\"q bh\"><div><h3 class=\"bi\"><a href=\"/tj.wagenknecht?eav=AfaH4GPUBY7PFHQiGR70u5sfFOJAoBkf-vt4gIIPAasVRuO4pIjMzBCz7TPCOVvpXxY&amp;paipv=0\">TJ Wags</a></h3><h3 class=\"w bj bk\"></h3></div></td><td class=\"k bl\"></td></tr></tbody></table></td></tr></tbody></table></li><li class=\"bd\"><table align=\"center\" class=\"i j\"><tbody><tr><td class=\"q\"><table align=\"center\" class=\"i j be\"><tbody><tr><td class=\"k\"><img alt=\"Dana Moyers, profile picture\" class=\"bf p\" src=\"https://scontent.fblr15-1.fna.fbcdn.net/v/t1.6435-1/182262440_1117799532065119_7255960696761485377_n.jpg?stp=cp0_dst-jpg_e15_p111x111_q65&amp;_nc_cat=108&amp;ccb=1-7&amp;_nc_sid=dbb9e7&amp;efg=eyJpIjoiYiJ9&amp;_nc_ohc=E15u-mE6jKUAX_D4uV1&amp;tn=mCsOuNrk_19M542n&amp;_nc_ht=scontent.fblr15-1.fna&amp;oh=00_AT9Cc6TcwGZvKt8MX31sEi0b0lUSFgdNDmqYfLg5iq3DZw&amp;oe=632F1A1B\"/></td><td class=\"k\"><img alt=\"Haha\" class=\"bg p\" height=\"16\" src=\"https://scontent.fblr15-1.fna.fbcdn.net/m1/v/t6/An_F9bJG7govfshSMBkvcRLcxT0jmiXVYKtr7lgH5AHgUrjjpZ1OD0xyxXYgf7arc0lWgCdrR_KN4Mg7RSN3Gm3W6Gg03N1tQ-ZXzVvFJ_KvvB4.png?ccb=10-5&amp;oh=00_AT9Q2vRtlIlYwDNB8JBupJIOw1209HH39-kTQwR4oczWTQ&amp;oe=630F9327&amp;_nc_sid=55e238\" width=\"16\"/></td><td class=\"q bh\"><div><h3 class=\"bi\"><a href=\"/profile.php?id=100015052480514&amp;eav=AfaYTiwZ8LujOumlBRH6d2SDgb-8TX26sCacgqjavugNEkDGN_CAtYt0jB2eCiDCwOU&amp;paipv=0\">Dana Moyers</a></h3><h3 class=\"w bj bk\"></h3></div></td><td class=\"k bl\"></td></tr></tbody></table></td></tr></tbody></table></li><li class=\"bd\"><table align=\"center\" class=\"i j\"><tbody><tr><td class=\"q\"><table align=\"center\" class=\"i j be\"><tbody><tr><td class=\"k\"><img alt=\"Betty MacMillan, profile picture\" class=\"bf p\" src=\"https://scontent.fblr15-1.fna.fbcdn.net/v/t39.30808-1/271187931_1287852121721653_4026810600666470670_n.jpg?stp=cp0_dst-jpg_e15_p111x111_q65&amp;_nc_cat=104&amp;ccb=1-7&amp;_nc_sid=dbb9e7&amp;efg=eyJpIjoiYiJ9&amp;_nc_ohc=JxUXt8zrXt8AX_KOxzB&amp;_nc_ht=scontent.fblr15-1.fna&amp;oh=00_AT_S8kxrer3KH29S3x6UN2qsMXzcGSIujxWQGTuvBNMsMg&amp;oe=63102FDD\"/></td><td class=\"k\"><img alt=\"Wow\" class=\"bg p\" height=\"16\" src=\"https://scontent.fblr15-1.fna.fbcdn.net/m1/v/t6/An_0KlxkBZwTJgSV9p2pDQkaZcuO9nFP4R72nyZmCnWKIxG_MSUbtZ_uBFHkKhQVvjgeou7ijfWCAKaRfSRFqQS9RcziMUL4BTtfpxJ2KfylUgpq.png?ccb=10-5&amp;oh=00_AT8Y2EpAic79SA02tRzFcra3e0r-JD5YxSk1k7XA-16jig&amp;oe=630F2D53&amp;_nc_sid=55e238\" width=\"16\"/></td><td class=\"q bh\"><div><h3 class=\"bi\"><a href=\"/betty.macmillam.7?eav=AfZwBLyAmHsjK74PiOKTL9WXYgmJKi7sA0nogv_6a_pBN1suljZYEvHw1w5ivY3Zl1E&amp;paipv=0\">Betty MacMillan</a></h3><h3 class=\"w bj bk\"></h3></div></td><td class=\"k bl\"></td></tr></tbody></table></td></tr></tbody></table></li><li class=\"bd\"><table align=\"center\" class=\"i j\"><tbody><tr><td class=\"q\"><div class=\"e bm\"><a href=\"/ufi/reaction/profile/browser/fetch/?ft_ent_identifier=5076161002492222&amp;limit=10&amp;reaction_type=0&amp;shown_ids=100004391175497%2C100080534286018%2C100063173933161%2C100053666765469%2C100046939201904%2C100030691711641%2C100028023771726%2C100018651887333%2C100015052480514%2C100014906310405&amp;total_count=100&amp;paipv=0&amp;eav=Afa9v4vZqPTIAwAPjv9vaOoh8wGaNULlixWww_60Hqel2QV7FxjOt81ycD2sYYqbKj4\"><span>See more</span></a></div></td></tr></tbody></table></li></ul></div></td></tr></tbody></table><div style=\"display:none\"></div></div></div></div></div></body></html>"
            ]
          },
          "metadata": {},
          "execution_count": 10
        }
      ]
    },
    {
      "cell_type": "code",
      "source": [],
      "metadata": {
        "id": "y8mlpMedALBA"
      },
      "execution_count": null,
      "outputs": []
    }
  ]
}
